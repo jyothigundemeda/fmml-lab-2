{
  "nbformat": 4,
  "nbformat_minor": 0,
  "metadata": {
    "colab": {
      "provenance": [],
      "include_colab_link": true
    },
    "kernelspec": {
      "name": "python3",
      "display_name": "Python 3"
    },
    "language_info": {
      "name": "python"
    }
  },
  "cells": [
    {
      "cell_type": "markdown",
      "metadata": {
        "id": "view-in-github",
        "colab_type": "text"
      },
      "source": [
        "<a href=\"https://colab.research.google.com/github/jyothigundemeda/fmml-lab-2/blob/main/Module_01_Lab_02_MLPractice.ipynb\" target=\"_parent\"><img src=\"https://colab.research.google.com/assets/colab-badge.svg\" alt=\"Open In Colab\"/></a>"
      ]
    },
    {
      "cell_type": "markdown",
      "metadata": {
        "id": "3Eu9VZbF01eq"
      },
      "source": [
        "# Machine learning terms and metrics\n",
        "\n",
        "FMML Module 1, Lab 2<br>\n",
        "\n",
        "\n",
        " In this lab, we will show a part of the ML pipeline by extracting features, training and testing"
      ]
    },
    {
      "cell_type": "code",
      "metadata": {
        "id": "8qBvyEem0vLi"
      },
      "source": [
        "import matplotlib.pyplot as plt\n",
        "import numpy as np\n",
        "from sklearn import datasets\n",
        "# set randomseed\n",
        "rng = np.random.default_rng(seed=42)"
      ],
      "execution_count": 1,
      "outputs": []
    },
    {
      "cell_type": "markdown",
      "metadata": {
        "id": "u3t59g5s1HfC"
      },
      "source": [
        "In this lab, we will use the California Housing dataset. There are 20640 samples, each with 8 attributes like income of the block, age of the houses per district etc. The task is to predict the cost of the houses per district.\n",
        "\n",
        "Let us download and examine the dataset."
      ]
    },
    {
      "cell_type": "code",
      "metadata": {
        "id": "8LpqjN991GGJ",
        "colab": {
          "base_uri": "https://localhost:8080/"
        },
        "outputId": "973e7869-396f-4f79-b527-b2e774b935ed"
      },
      "source": [
        " dataset =  datasets.fetch_california_housing()\n",
        " # print(dataset.DESCR)  # uncomment this if you want to know more about this dataset\n",
        " # print(dataset.keys())  # if you want to know what else is there in this dataset\n",
        " dataset.target = dataset.target.astype(np.int) # so that we can classify\n",
        " print(dataset.data.shape)\n",
        " print(dataset.target.shape)"
      ],
      "execution_count": 2,
      "outputs": [
        {
          "output_type": "stream",
          "name": "stdout",
          "text": [
            "(20640, 8)\n",
            "(20640,)\n"
          ]
        },
        {
          "output_type": "stream",
          "name": "stderr",
          "text": [
            "<ipython-input-2-60ae2e9a125e>:4: DeprecationWarning: `np.int` is a deprecated alias for the builtin `int`. To silence this warning, use `int` by itself. Doing this will not modify any behavior and is safe. When replacing `np.int`, you may wish to use e.g. `np.int64` or `np.int32` to specify the precision. If you wish to review your current use, check the release note link for additional information.\n",
            "Deprecated in NumPy 1.20; for more details and guidance: https://numpy.org/devdocs/release/1.20.0-notes.html#deprecations\n",
            "  dataset.target = dataset.target.astype(np.int) # so that we can classify\n"
          ]
        }
      ]
    },
    {
      "cell_type": "markdown",
      "metadata": {
        "id": "iNx4174W5xRg"
      },
      "source": [
        "Here is a function for calculating the 1-nearest neighbours"
      ]
    },
    {
      "cell_type": "code",
      "metadata": {
        "id": "07zpydQj1hIQ"
      },
      "source": [
        "def NN1(traindata, trainlabel, query):\n",
        "  diff  = traindata - query  # find the difference between features. Numpy automatically takes care of the size here\n",
        "  sq = diff*diff # square the differences\n",
        "  dist = sq.sum(1) # add up the squares\n",
        "  label = trainlabel[np.argmin(dist)] # our predicted label is the label of the training data which has the least distance from the query\n",
        "  return label\n",
        "\n",
        "def NN(traindata, trainlabel, testdata):\n",
        "  # we will run nearest neighbour for each sample in the test data\n",
        "  # and collect the predicted classes in an array using list comprehension\n",
        "  predlabel = np.array([NN1(traindata, trainlabel, i) for i in testdata])\n",
        "  return predlabel"
      ],
      "execution_count": 3,
      "outputs": []
    },
    {
      "cell_type": "markdown",
      "metadata": {
        "id": "03JktkfIGaje"
      },
      "source": [
        "We will also define a 'random classifier', which randomly allots labels to each sample"
      ]
    },
    {
      "cell_type": "code",
      "metadata": {
        "id": "fogWAtjyGhAH"
      },
      "source": [
        "def RandomClassifier(traindata, trainlabel, testdata):\n",
        "  # in reality, we don't need these arguments\n",
        "\n",
        "  classes = np.unique(trainlabel)\n",
        "  rints = rng.integers(low=0, high=len(classes), size=len(testdata))\n",
        "  predlabel = classes[rints]\n",
        "  return predlabel"
      ],
      "execution_count": 4,
      "outputs": []
    },
    {
      "cell_type": "markdown",
      "metadata": {
        "id": "1Hjf1KHs7fU5"
      },
      "source": [
        "Let us define a metric 'Accuracy' to see how good our learning algorithm is. Accuracy is the ratio of the number of correctly classified samples to the total number of samples. The higher the accuracy, the better the algorithm."
      ]
    },
    {
      "cell_type": "code",
      "metadata": {
        "id": "ouuCqWU07bz-"
      },
      "source": [
        "def Accuracy(gtlabel, predlabel):\n",
        "  assert len(gtlabel)==len(predlabel), \"Length of the groundtruth labels and predicted labels should be the same\"\n",
        "  correct = (gtlabel==predlabel).sum() # count the number of times the groundtruth label is equal to the predicted label.\n",
        "  return correct/len(gtlabel)"
      ],
      "execution_count": 5,
      "outputs": []
    },
    {
      "cell_type": "markdown",
      "metadata": {
        "id": "4vJFwBFa9Klw"
      },
      "source": [
        "Let us make a function to split the dataset with the desired probability."
      ]
    },
    {
      "cell_type": "code",
      "metadata": {
        "id": "Ko0VzpSM2Tdi"
      },
      "source": [
        "def split(data, label, percent):\n",
        "  # generate a random number for each sample\n",
        "  rnd = rng.random(len(label))\n",
        "  split1 = rnd<percent\n",
        "  split2 = rnd>=percent\n",
        "  split1data = data[split1,:]\n",
        "  split1label = label[split1]\n",
        "  split2data = data[split2,:]\n",
        "  split2label = label[split2]\n",
        "  return split1data, split1label, split2data, split2label"
      ],
      "execution_count": 6,
      "outputs": []
    },
    {
      "cell_type": "markdown",
      "metadata": {
        "id": "AcK3LEAJ_LGC"
      },
      "source": [
        "We will reserve 20% of our dataset as the test set. We will not change this portion throughout our experiments"
      ]
    },
    {
      "cell_type": "code",
      "metadata": {
        "id": "bBZkHBLJ1iU-",
        "colab": {
          "base_uri": "https://localhost:8080/"
        },
        "outputId": "79c9c301-d4e5-4f9c-b17f-a5e987a8d9b8"
      },
      "source": [
        "testdata, testlabel, alltraindata, alltrainlabel = split(dataset.data, dataset.target, 20/100)\n",
        "print('Number of test samples = ', len(testlabel))\n",
        "print('Number of other samples = ', len(alltrainlabel))\n",
        "print('Percent of test data = ', len(testlabel)*100/len(dataset.target),'%')"
      ],
      "execution_count": 7,
      "outputs": [
        {
          "output_type": "stream",
          "name": "stdout",
          "text": [
            "Number of test samples =  4144\n",
            "Number of other samples =  16496\n",
            "Percent of test data =  20.07751937984496 %\n"
          ]
        }
      ]
    },
    {
      "cell_type": "markdown",
      "metadata": {
        "id": "a6Ss0Z6IAGNV"
      },
      "source": [
        "## Experiments with splits\n",
        "\n",
        "Let us reserve some of our train data as a validation set"
      ]
    },
    {
      "cell_type": "code",
      "metadata": {
        "id": "WFew2iry_7W7"
      },
      "source": [
        "traindata, trainlabel, valdata, vallabel = split(alltraindata, alltrainlabel, 75/100)"
      ],
      "execution_count": 8,
      "outputs": []
    },
    {
      "cell_type": "markdown",
      "metadata": {
        "id": "60hiu4clFN1i"
      },
      "source": [
        "What is the accuracy of our classifiers on the train dataset?"
      ]
    },
    {
      "cell_type": "code",
      "metadata": {
        "id": "DBlZDTHUFTZx",
        "colab": {
          "base_uri": "https://localhost:8080/"
        },
        "outputId": "7a5b133e-2708-44b6-a88c-81bcfc59a81b"
      },
      "source": [
        "trainpred = NN(traindata, trainlabel, traindata)\n",
        "trainAccuracy = Accuracy(trainlabel, trainpred)\n",
        "print(\"Train accuracy using nearest neighbour is \", trainAccuracy)\n",
        "\n",
        "trainpred = RandomClassifier(traindata, trainlabel, traindata)\n",
        "trainAccuracy = Accuracy(trainlabel, trainpred)\n",
        "print(\"Train accuracy using random classifier is \", trainAccuracy)"
      ],
      "execution_count": 9,
      "outputs": [
        {
          "output_type": "stream",
          "name": "stdout",
          "text": [
            "Train accuracy using nearest neighbour is  1.0\n",
            "Train accuracy using random classifier is  0.164375808538163\n"
          ]
        }
      ]
    },
    {
      "cell_type": "markdown",
      "metadata": {
        "id": "7h08-9gJDtSy"
      },
      "source": [
        "For nearest neighbour, the train accuracy is always 1. The accuracy of the random classifier is close to 1/(number of classes) which is 0.1666 in our case.\n",
        "\n",
        "Let us predict the labels for our validation set and get the accuracy"
      ]
    },
    {
      "cell_type": "code",
      "metadata": {
        "id": "4h7bXoW_2H3v",
        "colab": {
          "base_uri": "https://localhost:8080/"
        },
        "outputId": "e26ad146-673a-4352-d6d9-07d17250523e"
      },
      "source": [
        "valpred = NN(traindata, trainlabel, valdata)\n",
        "valAccuracy = Accuracy(vallabel, valpred)\n",
        "print(\"Validation accuracy using nearest neighbour is \", valAccuracy)\n",
        "\n",
        "valpred = RandomClassifier(traindata, trainlabel, valdata)\n",
        "valAccuracy = Accuracy(vallabel, valpred)\n",
        "print(\"Validation accuracy using random classifier is \", valAccuracy)"
      ],
      "execution_count": 10,
      "outputs": [
        {
          "output_type": "stream",
          "name": "stdout",
          "text": [
            "Validation accuracy using nearest neighbour is  0.34108527131782945\n",
            "Validation accuracy using random classifier is  0.1688468992248062\n"
          ]
        }
      ]
    },
    {
      "cell_type": "markdown",
      "metadata": {
        "id": "py9bLguFEjfg"
      },
      "source": [
        "Validation accuracy of nearest neighbour is considerably less than its train accuracy while the validation accuracy of random classifier is the same. However, the validation accuracy of nearest neighbour is twice that of the random classifier.\n",
        "\n",
        "Now let us try another random split and check the validation accuracy"
      ]
    },
    {
      "cell_type": "code",
      "metadata": {
        "id": "ujm3cyYzEntE",
        "colab": {
          "base_uri": "https://localhost:8080/"
        },
        "outputId": "2a07abff-4f6e-4309-a6f4-1a72de652458"
      },
      "source": [
        "traindata, trainlabel, valdata, vallabel = split(alltraindata, alltrainlabel, 75/100)\n",
        "valpred = NN(traindata, trainlabel, valdata)\n",
        "valAccuracy = Accuracy(vallabel, valpred)\n",
        "print(\"Validation accuracy of nearest neighbour is \", valAccuracy)"
      ],
      "execution_count": 11,
      "outputs": [
        {
          "output_type": "stream",
          "name": "stdout",
          "text": [
            "Validation accuracy of nearest neighbour is  0.34048257372654156\n"
          ]
        }
      ]
    },
    {
      "cell_type": "markdown",
      "metadata": {
        "id": "oSOx7U83EKie"
      },
      "source": [
        "You can run the above cell multiple times to try with different random splits.\n",
        "We notice that the accuracy is different for each run, but close together.\n",
        "\n",
        "Now let us compare it with the accuracy we get on the test dataset."
      ]
    },
    {
      "cell_type": "code",
      "metadata": {
        "id": "PNEZ5ToYBEDW",
        "colab": {
          "base_uri": "https://localhost:8080/"
        },
        "outputId": "1d138c2c-9e20-48a2-f6dc-440a3b41c1be"
      },
      "source": [
        "testpred = NN(alltraindata, alltrainlabel, testdata)\n",
        "testAccuracy = Accuracy(testlabel, testpred)\n",
        "print('Test accuracy is ', testAccuracy)"
      ],
      "execution_count": 12,
      "outputs": [
        {
          "output_type": "stream",
          "name": "stdout",
          "text": [
            "Test accuracy is  0.34917953667953666\n"
          ]
        }
      ]
    },
    {
      "cell_type": "markdown",
      "metadata": {
        "id": "w3dGD531K3gH"
      },
      "source": [
        "### Try it out for yourself and answer:\n",
        "1. How is the accuracy of the validation set affected if we increase the percentage of validation set? What happens when we reduce it?\n",
        "2. How does the size of the train and validation set affect how well we can predict the accuracy on the test set using the validation set?\n",
        "3. What do you think is a good percentage to reserve for the validation set so that thest two factors are balanced?\n",
        "\n",
        "Answer for both nearest neighbour and random classifier. You can note down the values for your experiments and plot a graph using  <a href=https://matplotlib.org/stable/gallery/lines_bars_and_markers/step_demo.html#sphx-glr-gallery-lines-bars-and-markers-step-demo-py>plt.plot<href>. Check also for extreme values for splits, like 99.9% or 0.1%"
      ]
    },
    {
      "cell_type": "markdown",
      "source": [
        "1 st answer\n",
        "\n",
        "Yes, averaging the validation accuracy across multiple splits, such as using cross-validation, does give more consistent and reliable results compared to a single split. Cross-validation is a widely used technique to obtain a better estimate of a model's performance and reduce the impact of randomness associated with a single split of the data.\n",
        "\n",
        "Here's why averaging validation accuracy across multiple splits is beneficial:\n",
        "\n",
        "Reduced Variance: Cross-validation helps mitigate the variability in performance that can arise from a single data split. By repeatedly splitting the data into different training and validation sets, you get a more robust estimate of how well your model generalizes to unseen data.\n",
        "\n",
        "Better Generalization: Averaging results from multiple splits ensures that your model's performance is evaluated on different subsets of the data. This provides a more representative view of how your model will perform on unseen data.\n",
        "\n",
        "Reduced Bias: Cross-validation helps reduce potential bias introduced by a specific random split. In a single split, you might get lucky or unlucky with the data division, leading to overly optimistic or pessimistic estimates of model performance. Cross-validation helps balance this bias.\n",
        "\n",
        "Model Selection: Cross-validation is often used for model selection and hyperparameter tuning. It allows you to compare different models or hyperparameter settings more fairly and choose the one that performs consistently well across various data splits.\n",
        "\n",
        "In summary, averaging validation accuracy across multiple splits using techniques like k-fold cross-validation is a standard practice in machine learning. It provides a more consistent and reliable evaluation of your model's performance and helps ensure that the results are not overly influenced by the randomness of a single data split."
      ],
      "metadata": {
        "id": "hnmb3hCFMe4l"
      }
    },
    {
      "cell_type": "code",
      "source": [],
      "metadata": {
        "id": "jisaIz49M-E9"
      },
      "execution_count": null,
      "outputs": []
    },
    {
      "cell_type": "code",
      "source": [
        "from sklearn.model_selection import cross_val_score\n",
        "from sklearn.model_selection import KFold\n",
        "from sklearn.linear_model import LogisticRegression\n",
        "\n",
        "# Create your classifier (replace with your own model)\n",
        "classifier = LogisticRegression()\n",
        "\n",
        "# Define the number of folds (e.g., 5-fold cross-validation)\n",
        "num_folds = 5\n",
        "\n",
        "# Create a KFold cross-validation object\n",
        "kf = KFold(n_splits=num_folds, shuffle=True, random_state=42)\n",
        "\n",
        "# Perform k-fold cross-validation and get accuracy scores\n",
        "accuracy_scores = cross_val_score(classifier, X, y, cv=kf, scoring='accuracy')\n",
        "\n",
        "# Calculate the mean and standard deviation of accuracy scores\n",
        "mean_accuracy = accuracy_scores.mean()\n",
        "std_accuracy = accuracy_scores.std()\n",
        "\n",
        "print(f\"Mean Accuracy: {mean_accuracy:.2f}\")\n",
        "print(f\"Standard Deviation of Accuracy: {std_accuracy:.2f}\")\n"
      ],
      "metadata": {
        "colab": {
          "base_uri": "https://localhost:8080/"
        },
        "id": "pIYLEHwLGGRY",
        "outputId": "1f244b8a-9d52-4613-a9af-aa6931a68678"
      },
      "execution_count": null,
      "outputs": [
        {
          "output_type": "stream",
          "name": "stdout",
          "text": [
            "Mean Accuracy: 0.97\n",
            "Standard Deviation of Accuracy: 0.02\n"
          ]
        },
        {
          "output_type": "stream",
          "name": "stderr",
          "text": [
            "/usr/local/lib/python3.10/dist-packages/sklearn/linear_model/_logistic.py:458: ConvergenceWarning: lbfgs failed to converge (status=1):\n",
            "STOP: TOTAL NO. of ITERATIONS REACHED LIMIT.\n",
            "\n",
            "Increase the number of iterations (max_iter) or scale the data as shown in:\n",
            "    https://scikit-learn.org/stable/modules/preprocessing.html\n",
            "Please also refer to the documentation for alternative solver options:\n",
            "    https://scikit-learn.org/stable/modules/linear_model.html#logistic-regression\n",
            "  n_iter_i = _check_optimize_result(\n",
            "/usr/local/lib/python3.10/dist-packages/sklearn/linear_model/_logistic.py:458: ConvergenceWarning: lbfgs failed to converge (status=1):\n",
            "STOP: TOTAL NO. of ITERATIONS REACHED LIMIT.\n",
            "\n",
            "Increase the number of iterations (max_iter) or scale the data as shown in:\n",
            "    https://scikit-learn.org/stable/modules/preprocessing.html\n",
            "Please also refer to the documentation for alternative solver options:\n",
            "    https://scikit-learn.org/stable/modules/linear_model.html#logistic-regression\n",
            "  n_iter_i = _check_optimize_result(\n"
          ]
        }
      ]
    },
    {
      "cell_type": "markdown",
      "source": [
        "in this code:\n",
        "\n",
        "Replace LogisticRegression() with your own classifier or model. num_folds defines the number of folds in the cross-validation (e.g., 5-fold cross-validation). shuffle=True shuffles the data before splitting, which can help reduce potential bias in the data. random_state sets a random seed for reproducibility. The cross_val_score function performs k-fold cross-validation and returns an array of accuracy scores for each fold. Taking the mean of these scores provides a more stable estimate of your model's accuracy, and the standard deviation can give you an idea of the variability across folds."
      ],
      "metadata": {
        "id": "AFRKUgDgNGON"
      }
    },
    {
      "cell_type": "markdown",
      "source": [
        "2 nd question\n",
        "\n",
        "Averaging validation accuracy across multiple splits using techniques like k-fold cross-validation provides a more reliable estimate of a model's generalization performance, which can be considered a more accurate estimate compared to a single split. However, it's important to note that this estimate is still based on the validation data, and it's not the same as the test accuracy, which is evaluated on completely unseen data. Cross-validation serves as a robust proxy for test performance.\n",
        "\n",
        "Here's a code example demonstrating how you can use k-fold cross-validation to obtain a more accurate estimate of your model's generalization performance:"
      ],
      "metadata": {
        "id": "Efn3J4OYNLkS"
      }
    },
    {
      "cell_type": "code",
      "source": [
        "from sklearn.model_selection import cross_val_score\n",
        "from sklearn.model_selection import KFold\n",
        "from sklearn.linear_model import LogisticRegression\n",
        "\n",
        "# Create your classifier (replace with your own model)\n",
        "classifier = LogisticRegression()\n",
        "\n",
        "# Define the number of folds (e.g., 5-fold cross-validation)\n",
        "num_folds = 5\n",
        "\n",
        "# Create a KFold cross-validation object\n",
        "kf = KFold(n_splits=num_folds, shuffle=True, random_state=42)\n",
        "\n",
        "# Perform k-fold cross-validation and get accuracy scores\n",
        "accuracy_scores = cross_val_score(classifier, X, y, cv=kf, scoring='accuracy')\n",
        "\n",
        "# Calculate the mean accuracy across folds\n",
        "mean_accuracy = accuracy_scores.mean()\n",
        "\n",
        "print(f\"Mean Cross-Validation Accuracy: {mean_accuracy:.2f}\")"
      ],
      "metadata": {
        "id": "3sTcwoDTNp7e"
      },
      "execution_count": null,
      "outputs": []
    },
    {
      "cell_type": "markdown",
      "source": [
        "n this code:\n",
        "\n",
        "Replace LogisticRegression() with your own classifier or model.\n",
        "num_folds defines the number of folds in the cross-validation (e.g., 5-fold cross-validation).\n",
        "shuffle=True shuffles the data before splitting to reduce potential bias.\n",
        "random_state sets a random seed for reproducibility.\n",
        "The cross_val_score function performs k-fold cross-validation and returns an array of accuracy scores for each fold. Taking the mean of these scores provides a more accurate estimate of your model's generalization performance compared to a single validation split.\n",
        "\n",
        "While cross-validation provides a more accurate estimate of how your model is likely to perform on unseen data, it's important to emphasize that the final evaluation of your model should always be done on a separate, held-out test dataset that has not been used during model development or hyperparameter tuning. This test set provides the most accurate estimate of your model's real-world performance."
      ],
      "metadata": {
        "id": "33nKpl8tNrEg"
      }
    },
    {
      "cell_type": "markdown",
      "source": [
        "3 rd question\n",
        "\n",
        "The number of iterations (or folds) in cross-validation can have an effect on the estimate of model performance. In general, using a higher number of iterations in cross-validation can lead to a more robust and reliable estimate of the model's performance. However, it also comes at the cost of increased computational time.\n",
        "\n",
        "Here's how the number of iterations can affect the estimate of model performance:\n",
        "\n",
        "Higher Iterations (More Folds):\n",
        "\n",
        "Pros:\n",
        "\n",
        "A higher number of iterations, such as 10-fold or leave-one-out cross-validation, uses more diverse subsets of the data for training and validation. This can result in a more robust estimate because the model is evaluated on a larger number of validation sets.\n",
        "It provides a better assessment of the model's generalization performance and can reveal how consistent the model's performance is across different data splits.\n",
        "Cons:\n",
        "\n",
        "Increased computational cost: Using a higher number of iterations can be computationally expensive, especially if your dataset is large or the model is complex.\n",
        "Smaller training sets: With more folds, each training set becomes smaller, potentially limiting the model's ability to capture complex patterns.\n",
        "Lower Iterations (Fewer Folds):\n",
        "\n",
        "Pros:\n",
        "\n",
        "Using fewer iterations, such as 5-fold or 3-fold cross-validation, is computationally more efficient and quicker to execute.\n",
        "Each training set is larger, potentially allowing the model to learn better.\n",
        "Cons:\n",
        "\n",
        "The estimate of model performance may be less robust because it's based on a smaller number of validation sets. It might be more influenced by randomness in the data split.\n",
        "The choice of the number of iterations depends on a trade-off between computational resources and the desire for a robust estimate. In practice, 5-fold or 10-fold cross-validation is often a good compromise, providing a reasonably accurate and stable estimate of model performance.\n",
        "\n",
        "Here's a code example showing how to perform k-fold cross-validation with different numbers of iterations using scikit-learn:\n",
        "\n",
        "from sklearn.model_selection import cross_val_score\n",
        "from sklearn.model_selection import KFold\n",
        "from sklearn.linear_model import LogisticRegression\n",
        "\n",
        "# Create your classifier (replace with your own model)\n",
        "classifier = LogisticRegression()\n",
        "\n",
        "# Define different numbers of folds (iterations)\n",
        "num_folds = [3, 5, 10]  # You can modify these values\n",
        "\n",
        "for fold in num_folds:\n",
        "    # Create a KFold cross-validation object with the specified number of folds\n",
        "    kf = KFold(n_splits=fold, shuffle=True, random_state=42)\n",
        "\n",
        "    # Perform k-fold cross-validation and get accuracy scores\n",
        "    accuracy_scores = cross_val_score(classifier, X, y, cv=kf, scoring='accuracy')\n",
        "\n",
        "    # Calculate the mean accuracy across folds\n",
        "    mean_accuracy = accuracy_scores.mean()\n",
        "\n",
        "    print(f\"Number of Folds: {fold}, Mean Cross-Validation Accuracy: {mean_accuracy:.2f}\")\n",
        "In this code, you can experiment with different values of num_folds to observe how the number of iterations affects the cross-validation estimate of model accuracy."
      ],
      "metadata": {
        "id": "Kqpc4Jq-Nyd7"
      }
    },
    {
      "cell_type": "markdown",
      "source": [
        "4 th question\n",
        "\n",
        "Increasing the number of iterations in cross-validation (i.e., using more folds) can help mitigate the impact of a very small training dataset or validation dataset to some extent. However, it cannot completely compensate for an extremely small dataset, and there are practical limits to how much increasing the iterations can help.\n",
        "\n",
        "Here's why increasing iterations can help but may not fully address the issue:\n",
        "\n",
        "Pros of Increasing Iterations (Folds):\n",
        "\n",
        "More Data Splits: With more folds, the model is trained and validated on different subsets of the data, which can reduce the impact of a small training or validation set on the overall performance estimate.\n",
        "\n",
        "Better Assessment: A higher number of iterations provides a better assessment of how well the model generalizes and can reveal how consistent its performance is across different data splits.\n",
        "\n",
        "Cons of Increasing Iterations (Folds):\n",
        "\n",
        "Smaller Training Sets: As you increase the number of folds, each training set becomes smaller. If your training dataset is already very small, further reducing its size can limit the model's ability to learn meaningful patterns.\n",
        "\n",
        "Computational Cost: Using a large number of folds can be computationally expensive, especially if your dataset is large or your model is complex.\n",
        "\n",
        "Diminishing Returns: After a certain point, increasing the number of folds may not significantly improve the estimate of model performance. There are diminishing returns as you go beyond a reasonable number of folds.\n",
        "\n",
        "In cases where you have a very small dataset, you might consider using techniques like stratified sampling to ensure that each fold contains a representative distribution of classes. Additionally, you can experiment with different cross-validation strategies, such as leave-one-out (LOO) cross-validation, which uses one sample as a validation set and the rest as training data in each iteration.\n",
        "\n",
        "Here's a code example that shows how to perform LOO cross-validation using scikit-learn, which is one of the most extreme cases of increasing iterations:"
      ],
      "metadata": {
        "id": "c2RBD2CEOUu5"
      }
    },
    {
      "cell_type": "code",
      "source": [
        "from sklearn.model_selection import cross_val_score\n",
        "from sklearn.model_selection import LeaveOneOut\n",
        "from sklearn.linear_model import LogisticRegression\n",
        "\n",
        "# Create your classifier (replace with your own model)\n",
        "classifier = LogisticRegression()\n",
        "\n",
        "# Create a LeaveOneOut cross-validation object\n",
        "loo = LeaveOneOut()\n",
        "\n",
        "# Perform LOO cross-validation and get accuracy scores\n",
        "accuracy_scores = cross_val_score(classifier, X, y, cv=loo, scoring='accuracy')\n",
        "\n",
        "# Calculate the mean accuracy across folds\n",
        "mean_accuracy = accuracy_scores.mean()\n",
        "\n",
        "print(f\"Mean LOO Cross-Validation Accuracy: {mean_accuracy:.2f}\")"
      ],
      "metadata": {
        "id": "9LBvCcB6OexE"
      },
      "execution_count": null,
      "outputs": []
    },
    {
      "cell_type": "markdown",
      "source": [
        "In this code, LOO cross-validation is used, where each sample serves as the validation set once. While LOO cross-validation can provide an unbiased estimate, it's computationally expensive and may not always be practical, especially with larger datasets."
      ],
      "metadata": {
        "id": "ccFMrOubOgzM"
      }
    },
    {
      "cell_type": "markdown",
      "metadata": {
        "id": "PnYvkAZLQY7h"
      },
      "source": [
        "## Multiple Splits\n",
        "\n",
        "One way to get more accurate estimates for the test accuracy is by using <b>crossvalidation</b>. Here, we will try a simple version, where we do multiple train/val splits and take the average of validation accuracies as the test accuracy estimation. Here is a function for doing this. Note that this function will take a long time to execute."
      ]
    },
    {
      "cell_type": "code",
      "metadata": {
        "id": "E4nGCUQXBTzo"
      },
      "source": [
        "# you can use this function for random classifier also\n",
        "def AverageAccuracy(alldata, alllabel, splitpercent, iterations, classifier=NN):\n",
        "  accuracy = 0\n",
        "  for ii in range(iterations):\n",
        "    traindata, trainlabel, valdata, vallabel = split(alldata, alllabel, splitpercent)\n",
        "    valpred = classifier(traindata, trainlabel, valdata)\n",
        "    accuracy += Accuracy(vallabel, valpred)\n",
        "  return accuracy/iterations # average of all accuracies"
      ],
      "execution_count": 13,
      "outputs": []
    },
    {
      "cell_type": "code",
      "metadata": {
        "id": "H3qtNar7Bbik",
        "colab": {
          "base_uri": "https://localhost:8080/"
        },
        "outputId": "9fa26e96-d0e3-41c6-97dc-9b892d308308"
      },
      "source": [
        "print('Average validation accuracy is ', AverageAccuracy(alltraindata, alltrainlabel, 75/100, 10, classifier=NN))\n",
        "testpred = NN(alltraindata, alltrainlabel, testdata)\n",
        "print('test accuracy is ',Accuracy(testlabel, testpred) )"
      ],
      "execution_count": 14,
      "outputs": [
        {
          "output_type": "stream",
          "name": "stdout",
          "text": [
            "Average validation accuracy is  0.33584635395170215\n",
            "test accuracy is  0.34917953667953666\n"
          ]
        }
      ]
    },
    {
      "cell_type": "markdown",
      "metadata": {
        "id": "33GIn4x5VH-d"
      },
      "source": [
        "This is a very simple way of doing cross-validation. There are many well-known algorithms for cross-validation, like k-fold cross-validation, leave-one-out etc. This will be covered in detail in a later module. For more information about cross-validation, check <a href=https://en.wikipedia.org/wiki/Cross-validation_(statistics)>Cross-validatioin (Wikipedia)</a>\n",
        "\n",
        "### Questions\n",
        "1. Does averaging the validation accuracy across multiple splits give more consistent results?\n",
        "2. Does it give more accurate estimate of test accuracy?\n",
        "3. What is the effect of the number of iterations on the estimate? Do we get a better estimate with higher iterations?\n",
        "4. Consider the results you got for the previous questions. Can we deal with a very small train dataset or validation dataset by increasing the iterations?\n"
      ]
    }
  ]
}